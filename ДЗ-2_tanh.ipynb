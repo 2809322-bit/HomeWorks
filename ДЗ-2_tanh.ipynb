{
 "cells": [
  {
   "cell_type": "code",
   "execution_count": null,
   "id": "8d084bcc",
   "metadata": {},
   "outputs": [],
   "source": [
    "import numpy as np\n",
    "\n",
    "class Tanh:\n",
    "    def __init__(self):\n",
    "        pass\n",
    "\n",
    "    def forward(self, X):\n",
    "        self.X = X\n",
    "        return (np.exp(2*X) - 1) / (np.exp(2*X) + 1)\n",
    "\n",
    "    def backward(self, dLdy):\n",
    "        tanh = (np.exp(2*self.X) - 1) / (np.exp(2*self.X) + 1)\n",
    "        return (1 - tanh**2) * dLdy\n",
    "\n",
    "    def step(self, learning_rate):\n",
    "        pass"
   ]
  }
 ],
 "metadata": {
  "kernelspec": {
   "display_name": "Python 3 (ipykernel)",
   "language": "python",
   "name": "python3"
  },
  "language_info": {
   "codemirror_mode": {
    "name": "ipython",
    "version": 3
   },
   "file_extension": ".py",
   "mimetype": "text/x-python",
   "name": "python",
   "nbconvert_exporter": "python",
   "pygments_lexer": "ipython3",
   "version": "3.11.4"
  }
 },
 "nbformat": 4,
 "nbformat_minor": 5
}
