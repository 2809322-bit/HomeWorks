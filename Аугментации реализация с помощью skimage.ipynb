{
 "cells": [
  {
   "cell_type": "code",
   "execution_count": null,
   "id": "2f826f12",
   "metadata": {},
   "outputs": [],
   "source": [
    "import numpy as np\n",
    "from skimage.transform import rotate, AffineTransform, warp\n",
    "from skimage.util import random_noise\n",
    "\n",
    "\n",
    "class Augmentation():\n",
    "    def __init__(self):\n",
    "        pass\n",
    "    \n",
    "    def small_rotate(self, image, angles=(-15, 15)):\n",
    "        ang = np.random.uniform(angles[0], angles[1])\n",
    "        rotation = rotate(image, ang, mode='edge', preserve_range=True)\n",
    "        return rotation.astype(image.dtype)\n",
    "    \n",
    "    def random_shift(self, image, shift_perc=0.1):\n",
    "        height, width = image.shape[:2]\n",
    "        \n",
    "        max_shift_x = int(width * shift_perc)\n",
    "        max_shift_y = int(height * shift_perc)\n",
    "        \n",
    "        shift_x = np.random.randint(-max_shift_x, max_shift_x)\n",
    "        shift_y = np.random.randint(-max_shift_y, max_shift_y)\n",
    "        \n",
    "        transform = AffineTransform(translation=(-shift_x, -shift_y))\n",
    "        shifted = warp(image, transform, mode='edge', preserve_range=True)\n",
    "        \n",
    "        return shifted.astype(image.dtype)\n",
    "    \n",
    "    def noise(self, image, n_level=0.05):\n",
    "        noisy = random_noise(image, mode='gaussian', var=n_level**2)\n",
    "        \n",
    "        if image.dtype == np.uint8:\n",
    "            noisy = (noisy * 255).astype(np.uint8)\n",
    "        else:\n",
    "            noisy = noisy.astype(image.dtype)\n",
    "            \n",
    "        return noisy"
   ]
  }
 ],
 "metadata": {
  "kernelspec": {
   "display_name": "Python 3 (ipykernel)",
   "language": "python",
   "name": "python3"
  },
  "language_info": {
   "codemirror_mode": {
    "name": "ipython",
    "version": 3
   },
   "file_extension": ".py",
   "mimetype": "text/x-python",
   "name": "python",
   "nbconvert_exporter": "python",
   "pygments_lexer": "ipython3",
   "version": "3.11.4"
  }
 },
 "nbformat": 4,
 "nbformat_minor": 5
}
