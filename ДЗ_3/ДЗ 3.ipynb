{
 "cells": [
  {
   "cell_type": "code",
   "execution_count": 4,
   "id": "c7249f77",
   "metadata": {},
   "outputs": [],
   "source": [
    "import matplotlib.pyplot as plt\n",
    "%matplotlib inline\n",
    "import numpy as np\n",
    "# import cv2\n",
    "import sklearn\n",
    "import PIL\n",
    "import torch\n",
    "import torchvision\n",
    "from matplotlib import cm\n",
    "\n",
    "import torch\n",
    "import torch.nn.functional as F\n",
    "import torchvision\n",
    "import os\n",
    "from torch import nn\n",
    "from tqdm import tqdm"
   ]
  },
  {
   "cell_type": "code",
   "execution_count": 5,
   "id": "eba3cb9c",
   "metadata": {},
   "outputs": [],
   "source": [
    "transform = torchvision.transforms.Compose(\n",
    "    [\n",
    "        torchvision.transforms.ToTensor(),\n",
    "        torchvision.transforms.Normalize((0.1307,), (0.3081,))\n",
    "    ]\n",
    ")"
   ]
  },
  {
   "cell_type": "code",
   "execution_count": 14,
   "id": "68192fde",
   "metadata": {},
   "outputs": [],
   "source": [
    "def seed_everything(seed):\n",
    "    os.environ['PYTHONHASHSEED'] = str(seed)\n",
    "    np.random.seed(seed)\n",
    "    torch.manual_seed(seed)\n",
    "    torch.backends.cudnn.deterministic = True\n",
    "    torch.backends.cudnn.benchmark = False"
   ]
  },
  {
   "cell_type": "code",
   "execution_count": 15,
   "id": "dad260f3",
   "metadata": {},
   "outputs": [],
   "source": [
    "seed_everything(42)\n",
    "\n",
    "mnist_train = torchvision.datasets.MNIST(\n",
    "    './mnist/',\n",
    "    train=True,\n",
    "    download=True,\n",
    "    transform=transform\n",
    ")\n",
    "\n",
    "mnist_val = torchvision.datasets.MNIST(\n",
    "    './mnist/',\n",
    "    train=False,\n",
    "    download=True,\n",
    "    transform=transform\n",
    ")\n",
    "\n",
    "train_dataloader = torch.utils.data.DataLoader(mnist_train, batch_size=64, shuffle=True)\n",
    "val_dataloader = torch.utils.data.DataLoader(mnist_val, batch_size=64, shuffle=True)"
   ]
  },
  {
   "cell_type": "code",
   "execution_count": 16,
   "id": "ba3697c7",
   "metadata": {},
   "outputs": [
    {
     "data": {
      "text/plain": [
       "<matplotlib.image.AxesImage at 0x167eeab10>"
      ]
     },
     "execution_count": 16,
     "metadata": {},
     "output_type": "execute_result"
    },
    {
     "data": {
      "image/png": "[encoded data removed]",
      "text/plain": [
       "<Figure size 640x480 with 1 Axes>"
      ]
     },
     "metadata": {},
     "output_type": "display_data"
    }
   ],
   "source": [
    "plt.imshow(mnist_train[0][0].squeeze(0).numpy().reshape([28, 28]))"
   ]
  },
  {
   "cell_type": "code",
   "execution_count": 222,
   "id": "a1be89a1",
   "metadata": {},
   "outputs": [],
   "source": [
    "model = nn.Sequential(\n",
    "    nn.Flatten(),\n",
    "    nn.Linear(28*28, 128),\n",
    "    nn.ReLU(),\n",
    "    nn.Linear(128, 10)\n",
    ")\n",
    "\n",
    "optimizer = torch.optim.SGD(model.parameters(), lr=0.01)"
   ]
  },
  {
   "cell_type": "code",
   "execution_count": 223,
   "id": "adcd2dac",
   "metadata": {},
   "outputs": [],
   "source": [
    "def train(model, optimizer, n_epochs=5):\n",
    "    for epoch in range(n_epochs):\n",
    "\n",
    "        # обучение\n",
    "        for x_train, y_train in tqdm(train_dataloader):\n",
    "            y_pred = model(x_train)\n",
    "            loss = F.cross_entropy(y_pred, y_train)\n",
    "            loss.backward()\n",
    "            optimizer.step()\n",
    "            optimizer.zero_grad()\n",
    "\n",
    "        # валидация\n",
    "        if epoch % 2 == 0:\n",
    "            val_loss = []\n",
    "            val_accuracy = []\n",
    "            with torch.no_grad():\n",
    "                for x_val, y_val in tqdm(val_dataloader):\n",
    "                    y_pred = model(x_val)\n",
    "                    loss = F.cross_entropy(y_pred, y_val)\n",
    "                    val_loss.append(loss.numpy())\n",
    "                    val_accuracy.extend((torch.argmax(y_pred, dim=-1) == y_val).numpy().tolist())\n",
    "\n",
    "            print(f'Epoch: {epoch}, loss: {np.mean(val_loss)}, accuracy: {np.mean(val_accuracy)}')"
   ]
  },
  {
   "cell_type": "code",
   "execution_count": 224,
   "id": "de468edd",
   "metadata": {},
   "outputs": [
    {
     "name": "stderr",
     "output_type": "stream",
     "text": [
      "100%|████████████████████████████████████████| 938/938 [00:02<00:00, 434.37it/s]\n",
      "100%|████████████████████████████████████████| 157/157 [00:00<00:00, 477.14it/s]\n"
     ]
    },
    {
     "name": "stdout",
     "output_type": "stream",
     "text": [
      "Epoch: 0, loss: 0.32221439480781555, accuracy: 0.9107\n"
     ]
    },
    {
     "name": "stderr",
     "output_type": "stream",
     "text": [
      "100%|████████████████████████████████████████| 938/938 [00:02<00:00, 452.27it/s]\n",
      "100%|████████████████████████████████████████| 938/938 [00:02<00:00, 439.20it/s]\n",
      "100%|████████████████████████████████████████| 157/157 [00:00<00:00, 486.20it/s]\n"
     ]
    },
    {
     "name": "stdout",
     "output_type": "stream",
     "text": [
      "Epoch: 2, loss: 0.22897681593894958, accuracy: 0.9344\n"
     ]
    },
    {
     "name": "stderr",
     "output_type": "stream",
     "text": [
      "100%|████████████████████████████████████████| 938/938 [00:02<00:00, 453.43it/s]\n",
      "100%|████████████████████████████████████████| 938/938 [00:02<00:00, 453.88it/s]\n",
      "100%|████████████████████████████████████████| 157/157 [00:00<00:00, 485.84it/s]"
     ]
    },
    {
     "name": "stdout",
     "output_type": "stream",
     "text": [
      "Epoch: 4, loss: 0.18462838232517242, accuracy: 0.9463\n"
     ]
    },
    {
     "name": "stderr",
     "output_type": "stream",
     "text": [
      "\n"
     ]
    }
   ],
   "source": [
    "train(model, optimizer)"
   ]
  },
  {
   "cell_type": "code",
   "execution_count": 120,
   "id": "4ba9d042",
   "metadata": {},
   "outputs": [
    {
     "name": "stdout",
     "output_type": "stream",
     "text": [
      "Модель 1 параметров: 47758\n"
     ]
    }
   ],
   "source": [
    "def count_parameters(model):\n",
    "    return sum(p.numel() for p in model.parameters() if p.requires_grad)\n",
    "\n",
    "model = nn.Sequential(\n",
    "    nn.Conv2d(in_channels=1, out_channels=10, kernel_size=5),  # grayscale\n",
    "    nn.ReLU(),\n",
    "    nn.MaxPool2d(kernel_size=4),   # сократим изображение в 4 раза по каждой из сторон\n",
    "    nn.Flatten(),\n",
    "    nn.Linear(360, 128),\n",
    "    nn.ReLU(),\n",
    "    nn.Linear(128, 10)\n",
    ")\n",
    "\n",
    "optimizer = torch.optim.SGD(model.parameters(), lr=0.01)\n",
    "\n",
    "print(f\"Модель 1 параметров: {count_parameters(model)}\")"
   ]
  },
  {
   "cell_type": "code",
   "execution_count": 121,
   "id": "91f89fe3",
   "metadata": {},
   "outputs": [
    {
     "name": "stderr",
     "output_type": "stream",
     "text": [
      "100%|████████████████████████████████████████| 938/938 [00:04<00:00, 198.75it/s]\n",
      "100%|████████████████████████████████████████| 157/157 [00:00<00:00, 334.59it/s]\n"
     ]
    },
    {
     "name": "stdout",
     "output_type": "stream",
     "text": [
      "Epoch: 0, loss: 0.22071079909801483, accuracy: 0.9397\n"
     ]
    },
    {
     "name": "stderr",
     "output_type": "stream",
     "text": [
      "100%|████████████████████████████████████████| 938/938 [00:04<00:00, 206.15it/s]\n",
      "100%|████████████████████████████████████████| 938/938 [00:04<00:00, 214.27it/s]\n",
      "100%|████████████████████████████████████████| 157/157 [00:00<00:00, 358.59it/s]\n"
     ]
    },
    {
     "name": "stdout",
     "output_type": "stream",
     "text": [
      "Epoch: 2, loss: 0.11386488378047943, accuracy: 0.9665\n"
     ]
    },
    {
     "name": "stderr",
     "output_type": "stream",
     "text": [
      "100%|████████████████████████████████████████| 938/938 [00:04<00:00, 213.38it/s]\n",
      "100%|████████████████████████████████████████| 938/938 [00:04<00:00, 194.58it/s]\n",
      "100%|████████████████████████████████████████| 157/157 [00:00<00:00, 349.83it/s]"
     ]
    },
    {
     "name": "stdout",
     "output_type": "stream",
     "text": [
      "Epoch: 4, loss: 0.0803009569644928, accuracy: 0.9759\n"
     ]
    },
    {
     "name": "stderr",
     "output_type": "stream",
     "text": [
      "\n"
     ]
    }
   ],
   "source": [
    "train(model, optimizer)"
   ]
  },
  {
   "cell_type": "markdown",
   "id": "8c781d2d",
   "metadata": {},
   "source": [
    "1) SGD с Momentum - Сразу побил скор 0.9882\n",
    "2)Adam - c Lr = 0.01: дает Accuracy = 0.9793\n",
    "3)Adam - c Lr = 0.001: дает Accuracy = 0.9869\n",
    "4) AdamW - c Lr = 0.001: дает Accuracy = 0.986\n",
    "\n",
    "колво параметров для kernel_size = 3 - 47598\n",
    "для 5 - 47758\n",
    "для 4 - 47668\n",
    "для 2 - 47548"
   ]
  },
  {
   "cell_type": "code",
   "execution_count": 174,
   "id": "223fadc1",
   "metadata": {},
   "outputs": [],
   "source": [
    "model_mse = nn.Sequential(\n",
    "    nn.Flatten(),\n",
    "    nn.Linear(28*28, 128),\n",
    "    nn.ReLU(),\n",
    "    nn.Linear(128, 10)\n",
    ")\n",
    "\n",
    "optimizer_mse = torch.optim.SGD(model_mse.parameters(), lr=0.01)"
   ]
  },
  {
   "cell_type": "code",
   "execution_count": 175,
   "id": "bce4e857",
   "metadata": {},
   "outputs": [],
   "source": [
    "def train_MSE(model_mse, optimizer_mse, n_epochs=5):\n",
    "    for epoch in range(n_epochs):\n",
    "\n",
    "        # обучение\n",
    "        for x_train, y_train in tqdm(train_dataloader):\n",
    "            y_pred = model_mse(x_train)\n",
    "            loss = F.mse_loss(F.softmax(y_pred, dim=-1), F.one_hot(y_train, num_classes=10).float())\n",
    "            loss.backward()\n",
    "            optimizer_mse.step()\n",
    "            optimizer_mse.zero_grad()\n",
    "\n",
    "        # валидация\n",
    "        if epoch % 2 == 0:\n",
    "            val_loss = []\n",
    "            val_accuracy = []\n",
    "            with torch.no_grad():\n",
    "                for x_val, y_val in tqdm(val_dataloader):\n",
    "                    y_pred = model_mse(x_val)\n",
    "                    loss = F.mse_loss(F.softmax(y_pred, dim=-1), F.one_hot(y_val, num_classes=10).float())\n",
    "                    val_loss.append(loss.numpy())\n",
    "                    val_accuracy.extend((torch.argmax(y_pred, dim=-1) == y_val).numpy().tolist())\n",
    "\n",
    "            print(f'Epoch: {epoch}, loss: {np.mean(val_loss)}, accuracy: {np.mean(val_accuracy)}')"
   ]
  },
  {
   "cell_type": "code",
   "execution_count": 176,
   "id": "6220e92a",
   "metadata": {},
   "outputs": [
    {
     "name": "stderr",
     "output_type": "stream",
     "text": [
      "100%|████████████████████████████████████████| 938/938 [00:02<00:00, 441.20it/s]\n",
      "100%|████████████████████████████████████████| 157/157 [00:00<00:00, 487.42it/s]\n"
     ]
    },
    {
     "name": "stdout",
     "output_type": "stream",
     "text": [
      "Epoch: 0, loss: 0.079658143222332, accuracy: 0.4697\n"
     ]
    },
    {
     "name": "stderr",
     "output_type": "stream",
     "text": [
      "100%|████████████████████████████████████████| 938/938 [00:02<00:00, 449.51it/s]\n",
      "100%|████████████████████████████████████████| 938/938 [00:02<00:00, 449.16it/s]\n",
      "100%|████████████████████████████████████████| 157/157 [00:00<00:00, 480.89it/s]\n"
     ]
    },
    {
     "name": "stdout",
     "output_type": "stream",
     "text": [
      "Epoch: 2, loss: 0.047049425542354584, accuracy: 0.742\n"
     ]
    },
    {
     "name": "stderr",
     "output_type": "stream",
     "text": [
      "100%|████████████████████████████████████████| 938/938 [00:02<00:00, 449.66it/s]\n",
      "100%|████████████████████████████████████████| 938/938 [00:02<00:00, 440.93it/s]\n",
      "100%|████████████████████████████████████████| 157/157 [00:00<00:00, 480.45it/s]"
     ]
    },
    {
     "name": "stdout",
     "output_type": "stream",
     "text": [
      "Epoch: 4, loss: 0.029066674411296844, accuracy: 0.8563\n"
     ]
    },
    {
     "name": "stderr",
     "output_type": "stream",
     "text": [
      "\n"
     ]
    }
   ],
   "source": [
    "train_MSE(model_mse, optimizer_mse)"
   ]
  },
  {
   "cell_type": "code",
   "execution_count": 177,
   "id": "c1493416",
   "metadata": {},
   "outputs": [],
   "source": [
    "model_mse = nn.Sequential(\n",
    "    nn.Conv2d(in_channels=1, out_channels=10, kernel_size=5),  # grayscale\n",
    "    nn.ReLU(),\n",
    "    nn.MaxPool2d(kernel_size=4),   # сократим изображение в 4 раза по каждой из сторон\n",
    "    nn.Flatten(),\n",
    "    nn.Linear(6*6*10, 128),\n",
    "    nn.ReLU(),\n",
    "    nn.Linear(128, 10)\n",
    ")\n",
    "\n",
    "optimizer_mse = torch.optim.SGD(model_mse.parameters(), lr=0.01)"
   ]
  },
  {
   "cell_type": "code",
   "execution_count": 178,
   "id": "b24b215a",
   "metadata": {},
   "outputs": [
    {
     "name": "stderr",
     "output_type": "stream",
     "text": [
      "100%|████████████████████████████████████████| 938/938 [00:04<00:00, 210.99it/s]\n",
      "100%|████████████████████████████████████████| 157/157 [00:00<00:00, 353.18it/s]\n"
     ]
    },
    {
     "name": "stdout",
     "output_type": "stream",
     "text": [
      "Epoch: 0, loss: 0.08836696296930313, accuracy: 0.2559\n"
     ]
    },
    {
     "name": "stderr",
     "output_type": "stream",
     "text": [
      "100%|████████████████████████████████████████| 938/938 [00:04<00:00, 212.10it/s]\n",
      "100%|████████████████████████████████████████| 938/938 [00:04<00:00, 205.98it/s]\n",
      "100%|████████████████████████████████████████| 157/157 [00:00<00:00, 352.47it/s]\n"
     ]
    },
    {
     "name": "stdout",
     "output_type": "stream",
     "text": [
      "Epoch: 2, loss: 0.0824488177895546, accuracy: 0.4959\n"
     ]
    },
    {
     "name": "stderr",
     "output_type": "stream",
     "text": [
      "100%|████████████████████████████████████████| 938/938 [00:04<00:00, 210.11it/s]\n",
      "100%|████████████████████████████████████████| 938/938 [00:04<00:00, 212.55it/s]\n",
      "100%|████████████████████████████████████████| 157/157 [00:00<00:00, 350.74it/s]"
     ]
    },
    {
     "name": "stdout",
     "output_type": "stream",
     "text": [
      "Epoch: 4, loss: 0.05756786838173866, accuracy: 0.6673\n"
     ]
    },
    {
     "name": "stderr",
     "output_type": "stream",
     "text": [
      "\n"
     ]
    }
   ],
   "source": [
    "train_MSE(model_mse, optimizer_mse)"
   ]
  },
  {
   "cell_type": "markdown",
   "id": "356db31a",
   "metadata": {},
   "source": [
    "Mse - дает хорошую точность, если выбран оптимизатор ADAM - точность получилась даже немного выше кросс энтропи в отдельных случаях,  а вот в паре с SGD дает плохие результаты"
   ]
  },
  {
   "cell_type": "code",
   "execution_count": 217,
   "id": "049180ea",
   "metadata": {},
   "outputs": [],
   "source": [
    "model_NL = nn.Sequential(\n",
    "    nn.Flatten(),\n",
    "    nn.Linear(28*28, 128),\n",
    "    nn.ReLU(),\n",
    "    nn.Linear(128, 10)\n",
    ")\n",
    "\n",
    "optimizer_NL = torch.optim.Adam(model_NL.parameters(), lr=0.001)"
   ]
  },
  {
   "cell_type": "code",
   "execution_count": 218,
   "id": "1fb57f3b",
   "metadata": {},
   "outputs": [],
   "source": [
    "def train_NLL(model_NL, optimizer_NL, n_epochs=5):\n",
    "    for epoch in range(n_epochs):\n",
    "        for x_train, y_train in tqdm(train_dataloader):\n",
    "            y_pred_logits = model_NL(x_train)\n",
    "            y_pred_log_probs = F.log_softmax(y_pred_logits, dim=1)\n",
    "            loss = F.nll_loss(y_pred_log_probs, y_train)\n",
    "            loss.backward()\n",
    "            optimizer_NL.step()\n",
    "            optimizer_NL.zero_grad()\n",
    "\n",
    "        if epoch % 2 == 0:\n",
    "            val_loss = []\n",
    "            val_accuracy = []\n",
    "            with torch.no_grad():\n",
    "                for x_val, y_val in tqdm(val_dataloader):\n",
    "                    y_pred_logits = model_NL(x_val)\n",
    "                    val_accuracy.extend((torch.argmax(y_pred_logits, dim=-1) == y_val).numpy().tolist())\n",
    "                    loss = F.nll_loss(F.log_softmax(y_pred_logits, dim=1), y_val)\n",
    "                    val_loss.append(loss.numpy())\n",
    "\n",
    "            print(f'Epoch: {epoch}, loss: {np.mean(val_loss)}, accuracy: {np.mean(val_accuracy)}')"
   ]
  },
  {
   "cell_type": "code",
   "execution_count": 219,
   "id": "ce909dfc",
   "metadata": {},
   "outputs": [
    {
     "name": "stderr",
     "output_type": "stream",
     "text": [
      "100%|████████████████████████████████████████| 938/938 [00:02<00:00, 399.84it/s]\n",
      "100%|████████████████████████████████████████| 157/157 [00:00<00:00, 467.78it/s]\n"
     ]
    },
    {
     "name": "stdout",
     "output_type": "stream",
     "text": [
      "Epoch: 0, loss: 0.14311480522155762, accuracy: 0.956\n"
     ]
    },
    {
     "name": "stderr",
     "output_type": "stream",
     "text": [
      "100%|████████████████████████████████████████| 938/938 [00:02<00:00, 396.66it/s]\n",
      "100%|████████████████████████████████████████| 938/938 [00:02<00:00, 397.56it/s]\n",
      "100%|████████████████████████████████████████| 157/157 [00:00<00:00, 468.48it/s]\n"
     ]
    },
    {
     "name": "stdout",
     "output_type": "stream",
     "text": [
      "Epoch: 2, loss: 0.08392651379108429, accuracy: 0.9761\n"
     ]
    },
    {
     "name": "stderr",
     "output_type": "stream",
     "text": [
      "100%|████████████████████████████████████████| 938/938 [00:02<00:00, 398.70it/s]\n",
      "100%|████████████████████████████████████████| 938/938 [00:02<00:00, 417.40it/s]\n",
      "100%|████████████████████████████████████████| 157/157 [00:00<00:00, 468.10it/s]"
     ]
    },
    {
     "name": "stdout",
     "output_type": "stream",
     "text": [
      "Epoch: 4, loss: 0.07437309622764587, accuracy: 0.9788\n"
     ]
    },
    {
     "name": "stderr",
     "output_type": "stream",
     "text": [
      "\n"
     ]
    }
   ],
   "source": [
    "train_NL(model_NL, optimizer_NL)"
   ]
  },
  {
   "cell_type": "code",
   "execution_count": 159,
   "id": "76093721",
   "metadata": {},
   "outputs": [],
   "source": [
    "model_NL = nn.Sequential(\n",
    "    nn.Conv2d(in_channels=1, out_channels=10, kernel_size=5),  # grayscale\n",
    "    nn.ReLU(),\n",
    "    nn.MaxPool2d(kernel_size=4),   # сократим изображение в 4 раза по каждой из сторон\n",
    "    nn.Flatten(),\n",
    "    nn.Linear(6*6*10, 128),\n",
    "    nn.ReLU(),\n",
    "    nn.Linear(128, 10)\n",
    ")\n",
    "\n",
    "optimizer_NL = torch.optim.Adam(model_NL.parameters(), lr=0.001)"
   ]
  },
  {
   "cell_type": "code",
   "execution_count": 160,
   "id": "2c5c1b9f",
   "metadata": {},
   "outputs": [
    {
     "name": "stderr",
     "output_type": "stream",
     "text": [
      "100%|████████████████████████████████████████| 938/938 [00:04<00:00, 204.17it/s]\n",
      "100%|████████████████████████████████████████| 157/157 [00:00<00:00, 355.17it/s]\n"
     ]
    },
    {
     "name": "stdout",
     "output_type": "stream",
     "text": [
      "Epoch: 0, loss: 0.08470558375120163, accuracy: 0.974\n"
     ]
    },
    {
     "name": "stderr",
     "output_type": "stream",
     "text": [
      "100%|████████████████████████████████████████| 938/938 [00:04<00:00, 205.13it/s]\n",
      "100%|████████████████████████████████████████| 938/938 [00:04<00:00, 198.90it/s]\n",
      "100%|████████████████████████████████████████| 157/157 [00:00<00:00, 350.76it/s]\n"
     ]
    },
    {
     "name": "stdout",
     "output_type": "stream",
     "text": [
      "Epoch: 2, loss: 0.05123662203550339, accuracy: 0.9835\n"
     ]
    },
    {
     "name": "stderr",
     "output_type": "stream",
     "text": [
      "100%|████████████████████████████████████████| 938/938 [00:04<00:00, 205.85it/s]\n",
      "100%|████████████████████████████████████████| 938/938 [00:04<00:00, 205.97it/s]\n",
      "100%|████████████████████████████████████████| 157/157 [00:00<00:00, 356.48it/s]"
     ]
    },
    {
     "name": "stdout",
     "output_type": "stream",
     "text": [
      "Epoch: 4, loss: 0.06190171837806702, accuracy: 0.9823\n"
     ]
    },
    {
     "name": "stderr",
     "output_type": "stream",
     "text": [
      "\n"
     ]
    }
   ],
   "source": [
    "train_NL(model_NL, optimizer_NL)"
   ]
  },
  {
   "cell_type": "markdown",
   "id": "d08a407f",
   "metadata": {},
   "source": [
    "NLLloss - дает довольно хорошие результаты, как и кросс энтропия за счет того, что кросс энтропия можно сказать полностью повторяет то, что написано выше: применяет функцию softmax, а потом применяет NLLLoss"
   ]
  },
  {
   "cell_type": "code",
   "execution_count": 230,
   "id": "308d768d",
   "metadata": {},
   "outputs": [
    {
     "name": "stdout",
     "output_type": "stream",
     "text": [
      "\n",
      " 10_f_k5\n",
      "Кол-во параметров: 47758\n"
     ]
    },
    {
     "name": "stderr",
     "output_type": "stream",
     "text": [
      "10_f_k5 Epoch 0: 100%|███████████████████████| 938/938 [00:04<00:00, 205.12it/s]\n"
     ]
    },
    {
     "name": "stdout",
     "output_type": "stream",
     "text": [
      "10_f_k5 Epoch 0: Train Loss: 0.6238, Val Loss: 0.2136, Val accuracy: 0.9370\n"
     ]
    },
    {
     "name": "stderr",
     "output_type": "stream",
     "text": [
      "10_f_k5 Epoch 1: 100%|███████████████████████| 938/938 [00:04<00:00, 206.74it/s]\n"
     ]
    },
    {
     "name": "stdout",
     "output_type": "stream",
     "text": [
      "10_f_k5 Epoch 1: Train Loss: 0.1870, Val Loss: 0.1405, Val accuracy: 0.9580\n"
     ]
    },
    {
     "name": "stderr",
     "output_type": "stream",
     "text": [
      "10_f_k5 Epoch 2: 100%|███████████████████████| 938/938 [00:04<00:00, 201.50it/s]\n"
     ]
    },
    {
     "name": "stdout",
     "output_type": "stream",
     "text": [
      "10_f_k5 Epoch 2: Train Loss: 0.1387, Val Loss: 0.1103, Val accuracy: 0.9670\n"
     ]
    },
    {
     "name": "stderr",
     "output_type": "stream",
     "text": [
      "10_f_k5 Epoch 3: 100%|███████████████████████| 938/938 [00:04<00:00, 201.93it/s]\n"
     ]
    },
    {
     "name": "stdout",
     "output_type": "stream",
     "text": [
      "10_f_k5 Epoch 3: Train Loss: 0.1143, Val Loss: 0.1007, Val accuracy: 0.9700\n"
     ]
    },
    {
     "name": "stderr",
     "output_type": "stream",
     "text": [
      "10_f_k5 Epoch 4: 100%|███████████████████████| 938/938 [00:04<00:00, 206.18it/s]\n"
     ]
    },
    {
     "name": "stdout",
     "output_type": "stream",
     "text": [
      "10_f_k5 Epoch 4: Train Loss: 0.0985, Val Loss: 0.0837, Val accuracy: 0.9744\n"
     ]
    },
    {
     "name": "stderr",
     "output_type": "stream",
     "text": [
      "10_f_k5 Epoch 5: 100%|███████████████████████| 938/938 [00:04<00:00, 205.63it/s]\n"
     ]
    },
    {
     "name": "stdout",
     "output_type": "stream",
     "text": [
      "10_f_k5 Epoch 5: Train Loss: 0.0873, Val Loss: 0.0844, Val accuracy: 0.9737\n"
     ]
    },
    {
     "name": "stderr",
     "output_type": "stream",
     "text": [
      "10_f_k5 Epoch 6: 100%|███████████████████████| 938/938 [00:04<00:00, 206.10it/s]\n"
     ]
    },
    {
     "name": "stdout",
     "output_type": "stream",
     "text": [
      "10_f_k5 Epoch 6: Train Loss: 0.0791, Val Loss: 0.0721, Val accuracy: 0.9761\n",
      "\n",
      " 32_f_k3\n",
      "Кол-во параметров: 149194\n"
     ]
    },
    {
     "name": "stderr",
     "output_type": "stream",
     "text": [
      "32_f_k3 Epoch 0: 100%|███████████████████████| 938/938 [00:06<00:00, 135.02it/s]\n"
     ]
    },
    {
     "name": "stdout",
     "output_type": "stream",
     "text": [
      "32_f_k3 Epoch 0: Train Loss: 0.5318, Val Loss: 0.2310, Val accuracy: 0.9331\n"
     ]
    },
    {
     "name": "stderr",
     "output_type": "stream",
     "text": [
      "32_f_k3 Epoch 1: 100%|███████████████████████| 938/938 [00:07<00:00, 131.03it/s]\n"
     ]
    },
    {
     "name": "stdout",
     "output_type": "stream",
     "text": [
      "32_f_k3 Epoch 1: Train Loss: 0.1967, Val Loss: 0.1475, Val accuracy: 0.9582\n"
     ]
    },
    {
     "name": "stderr",
     "output_type": "stream",
     "text": [
      "32_f_k3 Epoch 2: 100%|███████████████████████| 938/938 [00:07<00:00, 128.98it/s]\n"
     ]
    },
    {
     "name": "stdout",
     "output_type": "stream",
     "text": [
      "32_f_k3 Epoch 2: Train Loss: 0.1404, Val Loss: 0.1108, Val accuracy: 0.9685\n"
     ]
    },
    {
     "name": "stderr",
     "output_type": "stream",
     "text": [
      "32_f_k3 Epoch 3: 100%|███████████████████████| 938/938 [00:07<00:00, 132.20it/s]\n"
     ]
    },
    {
     "name": "stdout",
     "output_type": "stream",
     "text": [
      "32_f_k3 Epoch 3: Train Loss: 0.1123, Val Loss: 0.1016, Val accuracy: 0.9699\n"
     ]
    },
    {
     "name": "stderr",
     "output_type": "stream",
     "text": [
      "32_f_k3 Epoch 4: 100%|███████████████████████| 938/938 [00:06<00:00, 134.21it/s]\n"
     ]
    },
    {
     "name": "stdout",
     "output_type": "stream",
     "text": [
      "32_f_k3 Epoch 4: Train Loss: 0.0952, Val Loss: 0.0808, Val accuracy: 0.9757\n"
     ]
    },
    {
     "name": "stderr",
     "output_type": "stream",
     "text": [
      "32_f_k3 Epoch 5: 100%|███████████████████████| 938/938 [00:07<00:00, 132.62it/s]\n"
     ]
    },
    {
     "name": "stdout",
     "output_type": "stream",
     "text": [
      "32_f_k3 Epoch 5: Train Loss: 0.0843, Val Loss: 0.0779, Val accuracy: 0.9759\n"
     ]
    },
    {
     "name": "stderr",
     "output_type": "stream",
     "text": [
      "32_f_k3 Epoch 6: 100%|███████████████████████| 938/938 [00:06<00:00, 134.31it/s]\n"
     ]
    },
    {
     "name": "stdout",
     "output_type": "stream",
     "text": [
      "32_f_k3 Epoch 6: Train Loss: 0.0760, Val Loss: 0.0665, Val accuracy: 0.9788\n",
      "\n",
      " 64_f_k3\n",
      "Кол-во параметров: 593290\n"
     ]
    },
    {
     "name": "stderr",
     "output_type": "stream",
     "text": [
      "64_f_k3 Epoch 0: 100%|████████████████████████| 938/938 [00:10<00:00, 89.27it/s]\n"
     ]
    },
    {
     "name": "stdout",
     "output_type": "stream",
     "text": [
      "64_f_k3 Epoch 0: Train Loss: 0.4730, Val Loss: 0.2261, Val accuracy: 0.9364\n"
     ]
    },
    {
     "name": "stderr",
     "output_type": "stream",
     "text": [
      "64_f_k3 Epoch 1: 100%|████████████████████████| 938/938 [00:10<00:00, 87.12it/s]\n"
     ]
    },
    {
     "name": "stdout",
     "output_type": "stream",
     "text": [
      "64_f_k3 Epoch 1: Train Loss: 0.1835, Val Loss: 0.1583, Val accuracy: 0.9544\n"
     ]
    },
    {
     "name": "stderr",
     "output_type": "stream",
     "text": [
      "64_f_k3 Epoch 2: 100%|████████████████████████| 938/938 [00:10<00:00, 87.82it/s]\n"
     ]
    },
    {
     "name": "stdout",
     "output_type": "stream",
     "text": [
      "64_f_k3 Epoch 2: Train Loss: 0.1295, Val Loss: 0.1036, Val accuracy: 0.9711\n"
     ]
    },
    {
     "name": "stderr",
     "output_type": "stream",
     "text": [
      "64_f_k3 Epoch 3: 100%|████████████████████████| 938/938 [00:11<00:00, 84.15it/s]\n"
     ]
    },
    {
     "name": "stdout",
     "output_type": "stream",
     "text": [
      "64_f_k3 Epoch 3: Train Loss: 0.1027, Val Loss: 0.0869, Val accuracy: 0.9750\n"
     ]
    },
    {
     "name": "stderr",
     "output_type": "stream",
     "text": [
      "64_f_k3 Epoch 4: 100%|████████████████████████| 938/938 [00:10<00:00, 87.46it/s]\n"
     ]
    },
    {
     "name": "stdout",
     "output_type": "stream",
     "text": [
      "64_f_k3 Epoch 4: Train Loss: 0.0873, Val Loss: 0.0807, Val accuracy: 0.9756\n"
     ]
    },
    {
     "name": "stderr",
     "output_type": "stream",
     "text": [
      "64_f_k3 Epoch 5: 100%|████████████████████████| 938/938 [00:10<00:00, 89.21it/s]\n"
     ]
    },
    {
     "name": "stdout",
     "output_type": "stream",
     "text": [
      "64_f_k3 Epoch 5: Train Loss: 0.0764, Val Loss: 0.0715, Val accuracy: 0.9765\n"
     ]
    },
    {
     "name": "stderr",
     "output_type": "stream",
     "text": [
      "64_f_k3 Epoch 6: 100%|████████████████████████| 938/938 [00:10<00:00, 89.57it/s]\n"
     ]
    },
    {
     "name": "stdout",
     "output_type": "stream",
     "text": [
      "64_f_k3 Epoch 6: Train Loss: 0.0693, Val Loss: 0.0989, Val accuracy: 0.9666\n",
      "\n",
      " 16_f_k7\n",
      "Кол-во параметров: 53418\n"
     ]
    },
    {
     "name": "stderr",
     "output_type": "stream",
     "text": [
      "16_f_k7 Epoch 0: 100%|███████████████████████| 938/938 [00:05<00:00, 156.47it/s]\n"
     ]
    },
    {
     "name": "stdout",
     "output_type": "stream",
     "text": [
      "16_f_k7 Epoch 0: Train Loss: 0.5240, Val Loss: 0.1744, Val accuracy: 0.9490\n"
     ]
    },
    {
     "name": "stderr",
     "output_type": "stream",
     "text": [
      "16_f_k7 Epoch 1: 100%|███████████████████████| 938/938 [00:05<00:00, 159.46it/s]\n"
     ]
    },
    {
     "name": "stdout",
     "output_type": "stream",
     "text": [
      "16_f_k7 Epoch 1: Train Loss: 0.1479, Val Loss: 0.1144, Val accuracy: 0.9665\n"
     ]
    },
    {
     "name": "stderr",
     "output_type": "stream",
     "text": [
      "16_f_k7 Epoch 2: 100%|███████████████████████| 938/938 [00:06<00:00, 156.29it/s]\n"
     ]
    },
    {
     "name": "stdout",
     "output_type": "stream",
     "text": [
      "16_f_k7 Epoch 2: Train Loss: 0.1077, Val Loss: 0.0928, Val accuracy: 0.9734\n"
     ]
    },
    {
     "name": "stderr",
     "output_type": "stream",
     "text": [
      "16_f_k7 Epoch 3: 100%|███████████████████████| 938/938 [00:06<00:00, 155.89it/s]\n"
     ]
    },
    {
     "name": "stdout",
     "output_type": "stream",
     "text": [
      "16_f_k7 Epoch 3: Train Loss: 0.0890, Val Loss: 0.0759, Val accuracy: 0.9785\n"
     ]
    },
    {
     "name": "stderr",
     "output_type": "stream",
     "text": [
      "16_f_k7 Epoch 4: 100%|███████████████████████| 938/938 [00:05<00:00, 160.06it/s]\n"
     ]
    },
    {
     "name": "stdout",
     "output_type": "stream",
     "text": [
      "16_f_k7 Epoch 4: Train Loss: 0.0774, Val Loss: 0.0652, Val accuracy: 0.9798\n"
     ]
    },
    {
     "name": "stderr",
     "output_type": "stream",
     "text": [
      "16_f_k7 Epoch 5: 100%|███████████████████████| 938/938 [00:06<00:00, 152.48it/s]\n"
     ]
    },
    {
     "name": "stdout",
     "output_type": "stream",
     "text": [
      "16_f_k7 Epoch 5: Train Loss: 0.0688, Val Loss: 0.0644, Val accuracy: 0.9805\n"
     ]
    },
    {
     "name": "stderr",
     "output_type": "stream",
     "text": [
      "16_f_k7 Epoch 6: 100%|███████████████████████| 938/938 [00:06<00:00, 154.21it/s]\n"
     ]
    },
    {
     "name": "stdout",
     "output_type": "stream",
     "text": [
      "16_f_k7 Epoch 6: Train Loss: 0.0627, Val Loss: 0.0560, Val accuracy: 0.9821\n"
     ]
    },
    {
     "data": {
      "image/png": "[encoded data removed]",
      "text/plain": [
       "<Figure size 1500x500 with 2 Axes>"
      ]
     },
     "metadata": {},
     "output_type": "display_data"
    },
    {
     "name": "stdout",
     "output_type": "stream",
     "text": [
      "\n",
      " Лучшая модель: 16_f_k7\n",
      " Accuracy: 0.9821\n",
      " Кол-во параметров: 53418\n",
      " Разница с базовой моделью: 0.0074\n"
     ]
    }
   ],
   "source": [
    "import matplotlib.pyplot as plt\n",
    "from tqdm import tqdm\n",
    "import numpy as np\n",
    "\n",
    "def count_parameters(model):\n",
    "    return sum(p.numel() for p in model.parameters() if p.requires_grad)\n",
    "\n",
    "def train_with_logging(model, optimizer, n_epochs=5, model_name=\"model\"):\n",
    "    train_losses = []\n",
    "    val_losses = []\n",
    "    val_accuracies = []\n",
    "    \n",
    "    for epoch in range(n_epochs):\n",
    "        # обучение\n",
    "        epoch_train_loss = []\n",
    "        for x_train, y_train in tqdm(train_dataloader, desc=f\"{model_name} Epoch {epoch}\"):\n",
    "            y_pred = model(x_train)\n",
    "            loss = F.cross_entropy(y_pred, y_train)\n",
    "            loss.backward()\n",
    "            optimizer.step()\n",
    "            optimizer.zero_grad()\n",
    "            epoch_train_loss.append(loss.item())\n",
    "\n",
    "        # валидация\n",
    "        val_loss = []\n",
    "        val_accuracy = []\n",
    "        with torch.no_grad():\n",
    "            for x_val, y_val in val_dataloader:\n",
    "                y_pred = model(x_val)\n",
    "                loss = F.cross_entropy(y_pred, y_val)\n",
    "                val_loss.append(loss.item())\n",
    "                val_accuracy.extend((torch.argmax(y_pred, dim=-1) == y_val).numpy().tolist())\n",
    "\n",
    "        train_losses.append(np.mean(epoch_train_loss))\n",
    "        val_losses.append(np.mean(val_loss))\n",
    "        val_accuracies.append(np.mean(val_accuracy))\n",
    "        \n",
    "        print(f'{model_name} Epoch {epoch}: Train Loss: {train_losses[-1]:.4f}, '\n",
    "              f'Val Loss: {val_losses[-1]:.4f}, Val accuracy: {val_accuracies[-1]:.4f}')\n",
    "    \n",
    "    return train_losses, val_losses, val_accuracies\n",
    "\n",
    "experiments = {}\n",
    "\n",
    "# 1\n",
    "model1 = nn.Sequential(\n",
    "    nn.Conv2d(1, 10, kernel_size=5),\n",
    "    nn.ReLU(),\n",
    "    nn.MaxPool2d(4),\n",
    "    nn.Flatten(),\n",
    "    nn.Linear(360, 128),\n",
    "    nn.ReLU(),\n",
    "    nn.Linear(128, 10)\n",
    ")\n",
    "optimizer1 = torch.optim.SGD(model1.parameters(), lr=0.01)\n",
    "experiments['10_f_k5'] = {'model': model1, 'optimizer': optimizer1}\n",
    "\n",
    "# 2\n",
    "model2 = nn.Sequential(\n",
    "    nn.Conv2d(1, 32, kernel_size=3),\n",
    "    nn.ReLU(),\n",
    "    nn.MaxPool2d(4),\n",
    "    nn.Flatten(),\n",
    "    nn.Linear(32*6*6, 128),  # (28-3+1)/4 = 6.5 ---> 6\n",
    "    nn.ReLU(),\n",
    "    nn.Linear(128, 10)\n",
    ")\n",
    "optimizer2 = torch.optim.SGD(model2.parameters(), lr=0.01)\n",
    "experiments['32_f_k3'] = {'model': model2, 'optimizer': optimizer2}\n",
    "\n",
    "# 3\n",
    "model3 = nn.Sequential(\n",
    "    nn.Conv2d(1, 64, kernel_size=3),\n",
    "    nn.ReLU(),\n",
    "    nn.MaxPool2d(4),\n",
    "    nn.Flatten(),\n",
    "    nn.Linear(64*6*6, 256), # (28-3+1)/4 = 6.5 ---> 6\n",
    "    nn.ReLU(),\n",
    "    nn.Linear(256, 10)\n",
    ")\n",
    "optimizer3 = torch.optim.SGD(model3.parameters(), lr=0.01)\n",
    "experiments['64_f_k3'] = {'model': model3, 'optimizer': optimizer3}\n",
    "\n",
    "# 4\n",
    "model4 = nn.Sequential(\n",
    "    nn.Conv2d(1, 16, kernel_size=7),\n",
    "    nn.ReLU(),\n",
    "    nn.MaxPool2d(4),\n",
    "    nn.Flatten(),\n",
    "    nn.Linear(16*5*5, 128),  # (28-7+1)/4 = 5.5 ---> 5\n",
    "    nn.ReLU(),\n",
    "    nn.Linear(128, 10)\n",
    ")\n",
    "optimizer4 = torch.optim.SGD(model4.parameters(), lr=0.01)\n",
    "experiments['16_f_k7'] = {'model': model4, 'optimizer': optimizer4}\n",
    "\n",
    "\n",
    "results = {}\n",
    "for name, exp in experiments.items():\n",
    "    print(f\"\\n {name}\")\n",
    "    print(f\"Кол-во параметров: {count_parameters(exp['model'])}\")\n",
    "    \n",
    "    train_loss, val_loss, val_acc = train_with_logging(exp['model'], exp['optimizer'], n_epochs=7, model_name=name)\n",
    "    \n",
    "    results[name] = {\n",
    "        'train_loss': train_loss,\n",
    "        'val_loss': val_loss, \n",
    "        'val_acc': val_acc,\n",
    "        'params': count_parameters(exp['model']),\n",
    "        'final_acc': val_acc[-1]\n",
    "    }\n",
    "\n",
    "plt.figure(figsize=(15, 5))\n",
    "\n",
    "plt.subplot(1, 3, 1)\n",
    "for name, res in results.items():\n",
    "    plt.plot(res['val_acc'], label=f\"{name} ({res['final_acc']:.3f})\")\n",
    "plt.xlabel('Epoch')\n",
    "plt.ylabel('Validation Accuracy')\n",
    "plt.title('Accuracy по эпохам')\n",
    "plt.legend()\n",
    "plt.grid(True)\n",
    "\n",
    "plt.subplot(1, 3, 2)\n",
    "for name, res in results.items():\n",
    "    plt.plot(res['val_loss'], label=name)\n",
    "plt.xlabel('Epoch')\n",
    "plt.ylabel('Validation Loss')\n",
    "plt.title('Loss по эпохам')\n",
    "plt.legend()\n",
    "plt.grid(True)\n",
    "\n",
    "plt.tight_layout()\n",
    "plt.show()\n",
    "\n",
    "best_model = max(results.items(), key=lambda x: x[1]['final_acc'])\n",
    "print(f\"\\n Лучшая модель: {best_model[0]}\")\n",
    "print(f\" Accuracy: {best_model[1]['final_acc']:.4f}\")\n",
    "print(f\" Кол-во параметров: {best_model[1]['params']}\")\n",
    "print(f\" Разница с базовой моделью: {best_model[1]['final_acc'] - 0.9747:.4f}\")"
   ]
  },
  {
   "cell_type": "markdown",
   "id": "a2b3b636",
   "metadata": {},
   "source": [
    "Модели 10_f_k5, 32_f_k3, 64_f_k3 - показали склонность к переобучению на 3 - 5 эпохах \n",
    "\n",
    "Выводы: 64_f_k3 (593K параметров) показала результаты хуже, чем 16_f_k7 (53K параметров) - это говорит о том, что самая лучшая модель не та, где куча параметров\n",
    "\n",
    "16_f_k7 с ядром 7×7 оказалась лучшей потому что:\n",
    "\n",
    "Достаточно большие ядра захватывают полезные фичи для MNIST\n",
    "Умеренное количество параметров предотвращает переобучение\n",
    "В общем и целом получился хороший баланс между скоростью обучения и качеством.\n",
    "\n",
    "И даже скорость обработки данных ближе всего к среднему, обычно это и есть показатель качества, как сказал ГПТ) - но иногда модель 64_f_k3 побеждает, когда не улетает в переобучение, вверху яркий пример, когда улетела\n",
    "\n",
    "152.92it/s / 80.63it/s / 123.17it/s / 206.10it/sit/s\n",
    "\n",
    "16_f_k7   /  64_f_k3  /  32_f_k3   /  10_f_k5\n"
   ]
  },
  {
   "cell_type": "code",
   "execution_count": null,
   "id": "dd2c2687",
   "metadata": {},
   "outputs": [],
   "source": []
  }
 ],
 "metadata": {
  "kernelspec": {
   "display_name": "Python 3 (ipykernel)",
   "language": "python",
   "name": "python3"
  },
  "language_info": {
   "codemirror_mode": {
    "name": "ipython",
    "version": 3
   },
   "file_extension": ".py",
   "mimetype": "text/x-python",
   "name": "python",
   "nbconvert_exporter": "python",
   "pygments_lexer": "ipython3",
   "version": "3.11.4"
  }
 },
 "nbformat": 4,
 "nbformat_minor": 5
}
